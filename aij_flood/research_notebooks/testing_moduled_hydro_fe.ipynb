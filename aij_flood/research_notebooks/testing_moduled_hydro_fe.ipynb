{
 "cells": [
  {
   "cell_type": "code",
   "execution_count": 35,
   "metadata": {},
   "outputs": [],
   "source": [
    "import os\n",
    "from sys import path\n",
    "path.append('..')\n",
    "\n",
    "import pandas as pd\n",
    "import numpy as np\n",
    "\n",
    "import features.hydro\n",
    "import utils"
   ]
  },
  {
   "cell_type": "code",
   "execution_count": 2,
   "metadata": {},
   "outputs": [],
   "source": [
    "root_dir = \"../../\"\n",
    "data_dir = os.path.join(root_dir, \"working_data/\")\n",
    "\n",
    "water_levels_path = os.path.join(data_dir, \"water_levels.csv\")\n",
    "# corrs_dists_path = os.path.join(data_dir, \"corrs_and_dists.csv\")"
   ]
  },
  {
   "cell_type": "code",
   "execution_count": 3,
   "metadata": {},
   "outputs": [],
   "source": [
    "hydro_coords = pd.read_csv(data_dir + \"hydro_posts_coords.csv\")"
   ]
  },
  {
   "cell_type": "code",
   "execution_count": 4,
   "metadata": {},
   "outputs": [
    {
     "data": {
      "text/html": [
       "<div>\n",
       "<style scoped>\n",
       "    .dataframe tbody tr th:only-of-type {\n",
       "        vertical-align: middle;\n",
       "    }\n",
       "\n",
       "    .dataframe tbody tr th {\n",
       "        vertical-align: top;\n",
       "    }\n",
       "\n",
       "    .dataframe thead th {\n",
       "        text-align: right;\n",
       "    }\n",
       "</style>\n",
       "<table border=\"1\" class=\"dataframe\">\n",
       "  <thead>\n",
       "    <tr style=\"text-align: right;\">\n",
       "      <th></th>\n",
       "      <th></th>\n",
       "      <th>max_level</th>\n",
       "    </tr>\n",
       "    <tr>\n",
       "      <th>id</th>\n",
       "      <th>date</th>\n",
       "      <th></th>\n",
       "    </tr>\n",
       "  </thead>\n",
       "  <tbody>\n",
       "    <tr>\n",
       "      <th rowspan=\"5\" valign=\"top\">5001</th>\n",
       "      <th>1984-01-01</th>\n",
       "      <td>258.0</td>\n",
       "    </tr>\n",
       "    <tr>\n",
       "      <th>1984-01-02</th>\n",
       "      <td>255.0</td>\n",
       "    </tr>\n",
       "    <tr>\n",
       "      <th>1984-01-03</th>\n",
       "      <td>252.0</td>\n",
       "    </tr>\n",
       "    <tr>\n",
       "      <th>1984-01-04</th>\n",
       "      <td>248.0</td>\n",
       "    </tr>\n",
       "    <tr>\n",
       "      <th>1984-01-05</th>\n",
       "      <td>244.0</td>\n",
       "    </tr>\n",
       "  </tbody>\n",
       "</table>\n",
       "</div>"
      ],
      "text/plain": [
       "                 max_level\n",
       "id   date                 \n",
       "5001 1984-01-01      258.0\n",
       "     1984-01-02      255.0\n",
       "     1984-01-03      252.0\n",
       "     1984-01-04      248.0\n",
       "     1984-01-05      244.0"
      ]
     },
     "execution_count": 4,
     "metadata": {},
     "output_type": "execute_result"
    }
   ],
   "source": [
    "water_levels = pd.read_csv(water_levels_path)\n",
    "water_levels[\"date\"] = pd.to_datetime(water_levels[\"date\"], format=\"%Y-%m-%d\")\n",
    "water_levels.set_index([\"id\", \"date\"], inplace=True)\n",
    "water_levels = utils.reduce_memory_usage(water_levels)\n",
    "\n",
    "water_levels.head()\n",
    "\n",
    "# corr_and_nearest = pd.read_csv(corrs_dists_path)\n",
    "# corr_and_nearest.head()"
   ]
  },
  {
   "cell_type": "code",
   "execution_count": 5,
   "metadata": {},
   "outputs": [
    {
     "data": {
      "text/html": [
       "<div>\n",
       "<style scoped>\n",
       "    .dataframe tbody tr th:only-of-type {\n",
       "        vertical-align: middle;\n",
       "    }\n",
       "\n",
       "    .dataframe tbody tr th {\n",
       "        vertical-align: top;\n",
       "    }\n",
       "\n",
       "    .dataframe thead th {\n",
       "        text-align: right;\n",
       "    }\n",
       "</style>\n",
       "<table border=\"1\" class=\"dataframe\">\n",
       "  <thead>\n",
       "    <tr style=\"text-align: right;\">\n",
       "      <th></th>\n",
       "      <th></th>\n",
       "      <th>max_level</th>\n",
       "    </tr>\n",
       "    <tr>\n",
       "      <th>id</th>\n",
       "      <th>date</th>\n",
       "      <th></th>\n",
       "    </tr>\n",
       "  </thead>\n",
       "  <tbody>\n",
       "    <tr>\n",
       "      <th rowspan=\"5\" valign=\"top\">5001</th>\n",
       "      <th>1984-01-01</th>\n",
       "      <td>258.0</td>\n",
       "    </tr>\n",
       "    <tr>\n",
       "      <th>1984-01-02</th>\n",
       "      <td>255.0</td>\n",
       "    </tr>\n",
       "    <tr>\n",
       "      <th>1984-01-03</th>\n",
       "      <td>252.0</td>\n",
       "    </tr>\n",
       "    <tr>\n",
       "      <th>1984-01-04</th>\n",
       "      <td>248.0</td>\n",
       "    </tr>\n",
       "    <tr>\n",
       "      <th>1984-01-05</th>\n",
       "      <td>244.0</td>\n",
       "    </tr>\n",
       "  </tbody>\n",
       "</table>\n",
       "</div>"
      ],
      "text/plain": [
       "                 max_level\n",
       "id   date                 \n",
       "5001 1984-01-01      258.0\n",
       "     1984-01-02      255.0\n",
       "     1984-01-03      252.0\n",
       "     1984-01-04      248.0\n",
       "     1984-01-05      244.0"
      ]
     },
     "execution_count": 5,
     "metadata": {},
     "output_type": "execute_result"
    }
   ],
   "source": [
    "def fill_missing_dates(water_levels, fill_val=np.nan):\n",
    "    dates = water_levels.index.get_level_values(1)\n",
    "    min_date, max_date = dates.min(), dates.max()\n",
    "    \n",
    "    new_index = pd.MultiIndex.from_product([water_levels.index.get_level_values(0).unique(), \n",
    "                                            pd.date_range(min_date, max_date, name=\"date\")])\n",
    "    water_levels = water_levels.reindex(new_index, fill_value=fill_val)\n",
    "    return water_levels\n",
    "\n",
    "water_levels = fill_missing_dates(water_levels)\n",
    "water_levels.head()"
   ]
  },
  {
   "cell_type": "code",
   "execution_count": 11,
   "metadata": {},
   "outputs": [],
   "source": [
    "stat_config = [\n",
    "    [np.nanmean, 1, 7],\n",
    "    [np.nanmean, 1, 30],\n",
    "    [np.nanstd, 1, 30],\n",
    "    \n",
    "    [np.nanmax, 1, 7],\n",
    "    [np.nanmin, 1, 7],\n",
    "    \n",
    "    [np.nanmax, 1, 30],\n",
    "    [np.nanmin, 1, 30]\n",
    "]\n",
    "\n",
    "def lag_from_previous(series, lag):\n",
    "    return series.values[-lag] # use .values if breaks\n",
    "\n",
    "\n",
    "def lag1(series):\n",
    "    return lag_from_previous(series, 1)\n",
    "\n",
    "\n",
    "def lag2(series):\n",
    "    return lag_from_previous(series, 2)\n",
    "\n",
    "\n",
    "def func_for_n_last(series, func, n_last):\n",
    "#     start_idx = max(len(series) - n_last, 0)\n",
    "    n_last_series = series.iloc[-n_last:] # use .values if breaks\n",
    "    return func(n_last_series)\n",
    "\n",
    "\n",
    "def mean_last_5_years(series):\n",
    "    return func_for_n_last(series, np.nanmean, 5)\n",
    "\n",
    "\n",
    "def std_last_5_years(series):\n",
    "    return func_for_n_last(series, np.nanstd, 5)\n",
    "\n",
    "doy_funcs = [lag1, lag2, mean_last_5_years, std_last_5_years]"
   ]
  },
  {
   "cell_type": "code",
   "execution_count": 12,
   "metadata": {},
   "outputs": [],
   "source": [
    "extract_config = {\n",
    "    \"lags\": np.arange(1, 8),\n",
    "    \"diff_lags\": [7],\n",
    "    \"diff_funcs\": [np.nanmean, np.nanstd],\n",
    "    \"levels_stat_config\": stat_config,\n",
    "    \"past_years_funcs\": doy_funcs\n",
    "}\n"
   ]
  },
  {
   "cell_type": "code",
   "execution_count": 13,
   "metadata": {},
   "outputs": [],
   "source": [
    "days_usage_config = {\n",
    "    \"lags\": 9,\n",
    "    \"diff\": 9, \n",
    "    \"levels_stat\": 32,\n",
    "    \"doy\": 365 * 5 + 1\n",
    "}"
   ]
  },
  {
   "cell_type": "code",
   "execution_count": 18,
   "metadata": {},
   "outputs": [],
   "source": [
    "target_station_ids = [6005, 6022, 6027, 5004, 5012, 5024, 5805]\n",
    "station_id = water_levels.reset_index()[\"id\"]\n",
    "target_station_mask = station_id.isin(target_station_ids).values\n",
    "water_levels = water_levels[target_station_mask]"
   ]
  },
  {
   "cell_type": "code",
   "execution_count": 21,
   "metadata": {},
   "outputs": [],
   "source": [
    "extractor = features.hydro.Extractor(extract_config)\n",
    "extr_manager = features.hydro.LastDayExtractManager(water_levels, hydro_coords, extractor, days_usage_config)"
   ]
  },
  {
   "cell_type": "code",
   "execution_count": 22,
   "metadata": {
    "collapsed": true,
    "jupyter": {
     "outputs_hidden": true
    }
   },
   "outputs": [
    {
     "name": "stdout",
     "output_type": "stream",
     "text": [
      "start extracting\n",
      "end!\n",
      "start extracting\n",
      "end!\n",
      "start extracting\n",
      "end!\n",
      "start extracting\n",
      "end!\n",
      "start extracting\n",
      "end!\n",
      "start extracting\n",
      "end!\n",
      "start extracting\n",
      "end!\n"
     ]
    },
    {
     "name": "stderr",
     "output_type": "stream",
     "text": [
      "/home/gldsn/.local/share/virtualenvs/aij20-flood-lIcseS5N/lib/python3.8/site-packages/pandas/core/apply.py:300: RuntimeWarning: Mean of empty slice\n",
      "  results[i] = self.f(v)\n",
      "/home/gldsn/.local/share/virtualenvs/aij20-flood-lIcseS5N/lib/python3.8/site-packages/numpy/lib/nanfunctions.py:1664: RuntimeWarning: Degrees of freedom <= 0 for slice.\n",
      "  var = nanvar(a, axis=axis, dtype=dtype, out=out, ddof=ddof,\n"
     ]
    },
    {
     "name": "stdout",
     "output_type": "stream",
     "text": [
      "agg func: lag1\n",
      "agg func: lag2\n",
      "agg func: mean_last_5_years\n",
      "agg func: std_last_5_years\n",
      "CPU times: user 23 s, sys: 156 ms, total: 23.2 s\n",
      "Wall time: 23.3 s\n"
     ]
    }
   ],
   "source": [
    "%%time\n",
    "last_day_features = extr_manager.extract()"
   ]
  },
  {
   "cell_type": "code",
   "execution_count": 29,
   "metadata": {},
   "outputs": [
    {
     "data": {
      "text/plain": [
       "id    date      \n",
       "5004  2020-10-01    -6.0\n",
       "5012  2020-10-01   -11.0\n",
       "5024  2020-10-01     4.0\n",
       "5805  2020-10-01     1.0\n",
       "6005  2020-10-01    -4.0\n",
       "6022  2020-10-01    22.0\n",
       "6027  2020-10-01     0.0\n",
       "Name: diff_1, dtype: float64"
      ]
     },
     "execution_count": 29,
     "metadata": {},
     "output_type": "execute_result"
    }
   ],
   "source": [
    "last_day_features[\"diff_1\"]"
   ]
  },
  {
   "cell_type": "code",
   "execution_count": 38,
   "metadata": {},
   "outputs": [],
   "source": [
    "whole_extractor = features.hydro.Extractor(extract_config)\n",
    "whole_extr_manager = features.hydro.ExtractManager(water_levels, hydro_coords, extractor)"
   ]
  },
  {
   "cell_type": "code",
   "execution_count": 39,
   "metadata": {},
   "outputs": [
    {
     "name": "stdout",
     "output_type": "stream",
     "text": [
      "start extracting\n",
      "end!\n",
      "start extracting\n",
      "end!\n",
      "start extracting\n",
      "end!\n",
      "start extracting\n",
      "end!\n",
      "start extracting\n",
      "end!\n",
      "start extracting\n",
      "end!\n",
      "start extracting\n",
      "end!\n"
     ]
    },
    {
     "name": "stderr",
     "output_type": "stream",
     "text": [
      "/home/gldsn/.local/share/virtualenvs/aij20-flood-lIcseS5N/lib/python3.8/site-packages/pandas/core/apply.py:300: RuntimeWarning: Mean of empty slice\n",
      "  results[i] = self.f(v)\n",
      "/home/gldsn/.local/share/virtualenvs/aij20-flood-lIcseS5N/lib/python3.8/site-packages/numpy/lib/nanfunctions.py:1664: RuntimeWarning: Degrees of freedom <= 0 for slice.\n",
      "  var = nanvar(a, axis=axis, dtype=dtype, out=out, ddof=ddof,\n"
     ]
    },
    {
     "name": "stdout",
     "output_type": "stream",
     "text": [
      "agg func: lag1\n",
      "agg func: lag2\n",
      "agg func: mean_last_5_years\n",
      "agg func: std_last_5_years\n",
      "CPU times: user 2min 32s, sys: 414 ms, total: 2min 33s\n",
      "Wall time: 2min 33s\n"
     ]
    }
   ],
   "source": [
    "%%time\n",
    "all_features = whole_extr_manager.extract()"
   ]
  },
  {
   "cell_type": "code",
   "execution_count": 56,
   "metadata": {},
   "outputs": [],
   "source": [
    "def merge_features_with_coords(features, coords):\n",
    "    merged = features.reset_index().merge(coords, on=\"id\", how=\"left\")\n",
    "    merged.set_index([\"id\", \"date\"], inplace=True)\n",
    "    \n",
    "    return merged\n",
    "\n",
    "def df_doy(df):\n",
    "    date = df.reset_index()[\"date\"]\n",
    "    return date.dt.dayofyear.values\n",
    "\n",
    "all_features = merge_features_with_coords(all_features, hydro_coords)\n",
    "all_features[\"doy\"] = df_doy(all_features)\n",
    "all_features[\"target\"] = water_levels"
   ]
  },
  {
   "cell_type": "code",
   "execution_count": 58,
   "metadata": {},
   "outputs": [],
   "source": [
    "all_features.to_csv(os.path.join(data_dir, \"hydro_features.csv\"))"
   ]
  },
  {
   "cell_type": "code",
   "execution_count": null,
   "metadata": {},
   "outputs": [],
   "source": []
  }
 ],
 "metadata": {
  "kernelspec": {
   "display_name": "Python 3",
   "language": "python",
   "name": "python3"
  },
  "language_info": {
   "codemirror_mode": {
    "name": "ipython",
    "version": 3
   },
   "file_extension": ".py",
   "mimetype": "text/x-python",
   "name": "python",
   "nbconvert_exporter": "python",
   "pygments_lexer": "ipython3",
   "version": "3.8.5"
  }
 },
 "nbformat": 4,
 "nbformat_minor": 4
}
